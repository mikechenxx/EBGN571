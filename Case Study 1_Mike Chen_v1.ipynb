{
 "cells": [
  {
   "cell_type": "code",
   "execution_count": null,
   "id": "7d3be5a6-dd73-43d1-8f52-f19155f91184",
   "metadata": {},
   "outputs": [],
   "source": [
    "%matplotlib inline\n",
    "\n",
    "from pathlib import Path\n",
    "\n",
    "import numpy as np\n",
    "import pandas as pd\n",
    "import matplotlib.pylab as plt\n",
    "from sklearn.model_selection import train_test_split"
   ]
  },
  {
   "cell_type": "code",
   "execution_count": null,
   "id": "827b2092-3564-4d3f-885a-4ebe703b600e",
   "metadata": {},
   "outputs": [],
   "source": [
    "fundraising_data=pd.read_csv('Fundraising.csv')"
   ]
  },
  {
   "cell_type": "code",
   "execution_count": 1,
   "id": "eded7320-0971-4953-abb1-248df8629fdd",
   "metadata": {},
   "outputs": [],
   "source": [
    "#Notes on Data\n",
    "# gender dummy us either male or female. homeowner dummy is either yes or no. Should we change back to names instead of number categories?\n",
    "#Donated_in_previous_event: whether the person donated in the previous event (target variable 1) (important target variable)\n",
    "#gift_ammount_in_prev_event: if the person donated in the previous event, how much she donated (target variable 2) (important target variable number two)\n",
    "#is row ID a redundant column to consider getting rid of? row id drop?\n",
    "\n",
    "#Tasks to do=\n",
    "#First task, having “Donated_in_previous_event” as your target variable, develop classification models using logistic regression and KNN-Classifier to predict whether a person would donate in fundraising or not\n",
    "#Second task, keep only the records of those who have donated in the previous event, and having “gift_ammount_in_prev_event” as your target variable, use KNN Regression to develop a model that predicts the gift amount of a donner. (floating variable?)\n",
    "#Also report the linear regression scores on training and test sets with appropriate explanations using a print function.\n",
    "#Use the information of the following person, first predict whether she will donate to a fundraising, and if yes, predict how much her donation would be. most likely donated and use use knn regression to predict just how much.\n",
    "#Person1: [97404, 0, 0, 12,5,55]\n",
    "\n",
    "#Submission details =\n",
    "#Your Python code that shows your analysis, An Executive Summary, and Presentation slides\n",
    "#Presentaion slides = 1-2 slides to Describe the problem, 2-3 slides: Explain your solution and findings, 1-2 slides: Summary and conclusion. \n",
    "#Executive summary = page 1 from uni Arizona exec summary, page 2 = executive summary, objective/opportunity, key findings, recommendations for X, impact\n",
    "#python code with comments and analysis\n",
    "\n",
    "#How to break down the project appropriately into 3 people\n"
   ]
  },
  {
   "cell_type": "code",
   "execution_count": null,
   "id": "45ca61cf-56ac-4333-ac6d-514077bc86af",
   "metadata": {},
   "outputs": [],
   "source": []
  }
 ],
 "metadata": {
  "kernelspec": {
   "display_name": "Python 3 (ipykernel)",
   "language": "python",
   "name": "python3"
  },
  "language_info": {
   "codemirror_mode": {
    "name": "ipython",
    "version": 3
   },
   "file_extension": ".py",
   "mimetype": "text/x-python",
   "name": "python",
   "nbconvert_exporter": "python",
   "pygments_lexer": "ipython3",
   "version": "3.12.7"
  }
 },
 "nbformat": 4,
 "nbformat_minor": 5
}
