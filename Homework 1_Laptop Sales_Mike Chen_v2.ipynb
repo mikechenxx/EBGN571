{
 "cells": [
  {
   "cell_type": "code",
   "execution_count": 1,
   "id": "1cefc2b5-17b4-437f-a6ba-249bae90babb",
   "metadata": {},
   "outputs": [],
   "source": [
    "#import packages\n",
    "import numpy as np \n",
    "import pandas as pd\n",
    "from pandas.plotting import scatter_matrix, parallel_coordinates\n",
    "from matplotlib import pyplot as plt\n",
    "%matplotlib inline\n",
    "\n",
    "import os \n",
    "import calendar \n",
    "from pathlib import Path \n",
    "import networkx as nx\n",
    "import seaborn as sns\n",
    "from sklearn import preprocessing\n",
    "\n",
    "\n",
    "#import data\n",
    "laptop_df = pd.read_csv('LaptopSalesJanuary2008.csv')"
   ]
  },
  {
   "cell_type": "code",
   "execution_count": 2,
   "id": "b86006e0-5b10-4a7a-a1e9-cb3dce37d8bf",
   "metadata": {},
   "outputs": [
    {
     "data": {
      "text/html": [
       "<div>\n",
       "<style scoped>\n",
       "    .dataframe tbody tr th:only-of-type {\n",
       "        vertical-align: middle;\n",
       "    }\n",
       "\n",
       "    .dataframe tbody tr th {\n",
       "        vertical-align: top;\n",
       "    }\n",
       "\n",
       "    .dataframe thead th {\n",
       "        text-align: right;\n",
       "    }\n",
       "</style>\n",
       "<table border=\"1\" class=\"dataframe\">\n",
       "  <thead>\n",
       "    <tr style=\"text-align: right;\">\n",
       "      <th></th>\n",
       "      <th>Date</th>\n",
       "      <th>Configuration</th>\n",
       "      <th>Customer Postcode</th>\n",
       "      <th>Store Postcode</th>\n",
       "      <th>Retail Price</th>\n",
       "      <th>Screen Size (Inches)</th>\n",
       "      <th>Battery Life (Hours)</th>\n",
       "      <th>RAM (GB)</th>\n",
       "      <th>Processor Speeds (GHz)</th>\n",
       "      <th>Integrated Wireless?</th>\n",
       "      <th>HD Size (GB)</th>\n",
       "      <th>Bundled Applications?</th>\n",
       "      <th>OS X Customer</th>\n",
       "      <th>OS Y Customer</th>\n",
       "      <th>OS X Store</th>\n",
       "      <th>OS Y Store</th>\n",
       "      <th>CustomerStoreDistance</th>\n",
       "    </tr>\n",
       "  </thead>\n",
       "  <tbody>\n",
       "    <tr>\n",
       "      <th>0</th>\n",
       "      <td>1/1/2008 0:01</td>\n",
       "      <td>163</td>\n",
       "      <td>EC4V 5BH</td>\n",
       "      <td>SE1 2BN</td>\n",
       "      <td>455</td>\n",
       "      <td>15</td>\n",
       "      <td>5</td>\n",
       "      <td>1</td>\n",
       "      <td>2.0</td>\n",
       "      <td>Yes</td>\n",
       "      <td>80</td>\n",
       "      <td>Yes</td>\n",
       "      <td>532041</td>\n",
       "      <td>180995</td>\n",
       "      <td>534057.0</td>\n",
       "      <td>179682.0</td>\n",
       "      <td>2405.873022</td>\n",
       "    </tr>\n",
       "    <tr>\n",
       "      <th>1</th>\n",
       "      <td>1/1/2008 0:02</td>\n",
       "      <td>320</td>\n",
       "      <td>SW4 0JL</td>\n",
       "      <td>SW12 9HD</td>\n",
       "      <td>545</td>\n",
       "      <td>15</td>\n",
       "      <td>6</td>\n",
       "      <td>1</td>\n",
       "      <td>2.0</td>\n",
       "      <td>No</td>\n",
       "      <td>300</td>\n",
       "      <td>No</td>\n",
       "      <td>529240</td>\n",
       "      <td>175537</td>\n",
       "      <td>528739.0</td>\n",
       "      <td>173080.0</td>\n",
       "      <td>2507.558574</td>\n",
       "    </tr>\n",
       "    <tr>\n",
       "      <th>2</th>\n",
       "      <td>1/1/2008 0:04</td>\n",
       "      <td>23</td>\n",
       "      <td>EC3V 1LR</td>\n",
       "      <td>E2 0RY</td>\n",
       "      <td>515</td>\n",
       "      <td>15</td>\n",
       "      <td>4</td>\n",
       "      <td>1</td>\n",
       "      <td>2.0</td>\n",
       "      <td>Yes</td>\n",
       "      <td>300</td>\n",
       "      <td>Yes</td>\n",
       "      <td>533095</td>\n",
       "      <td>181047</td>\n",
       "      <td>535652.0</td>\n",
       "      <td>182961.0</td>\n",
       "      <td>3194.001409</td>\n",
       "    </tr>\n",
       "    <tr>\n",
       "      <th>3</th>\n",
       "      <td>1/1/2008 0:04</td>\n",
       "      <td>169</td>\n",
       "      <td>SW1P 3AU</td>\n",
       "      <td>SE1 2BN</td>\n",
       "      <td>395</td>\n",
       "      <td>15</td>\n",
       "      <td>5</td>\n",
       "      <td>1</td>\n",
       "      <td>2.0</td>\n",
       "      <td>No</td>\n",
       "      <td>40</td>\n",
       "      <td>Yes</td>\n",
       "      <td>529902</td>\n",
       "      <td>179641</td>\n",
       "      <td>534057.0</td>\n",
       "      <td>179682.0</td>\n",
       "      <td>4155.202281</td>\n",
       "    </tr>\n",
       "    <tr>\n",
       "      <th>4</th>\n",
       "      <td>1/1/2008 0:06</td>\n",
       "      <td>365</td>\n",
       "      <td>EC4V 4EG</td>\n",
       "      <td>SW1V 4QQ</td>\n",
       "      <td>585</td>\n",
       "      <td>15</td>\n",
       "      <td>6</td>\n",
       "      <td>2</td>\n",
       "      <td>2.0</td>\n",
       "      <td>No</td>\n",
       "      <td>120</td>\n",
       "      <td>Yes</td>\n",
       "      <td>531684</td>\n",
       "      <td>180948</td>\n",
       "      <td>528924.0</td>\n",
       "      <td>178440.0</td>\n",
       "      <td>3729.298057</td>\n",
       "    </tr>\n",
       "  </tbody>\n",
       "</table>\n",
       "</div>"
      ],
      "text/plain": [
       "            Date  Configuration Customer Postcode Store Postcode  \\\n",
       "0  1/1/2008 0:01            163          EC4V 5BH        SE1 2BN   \n",
       "1  1/1/2008 0:02            320           SW4 0JL       SW12 9HD   \n",
       "2  1/1/2008 0:04             23          EC3V 1LR         E2 0RY   \n",
       "3  1/1/2008 0:04            169          SW1P 3AU        SE1 2BN   \n",
       "4  1/1/2008 0:06            365          EC4V 4EG       SW1V 4QQ   \n",
       "\n",
       "   Retail Price  Screen Size (Inches)  Battery Life (Hours)  RAM (GB)  \\\n",
       "0           455                    15                     5         1   \n",
       "1           545                    15                     6         1   \n",
       "2           515                    15                     4         1   \n",
       "3           395                    15                     5         1   \n",
       "4           585                    15                     6         2   \n",
       "\n",
       "   Processor Speeds (GHz) Integrated Wireless?  HD Size (GB)  \\\n",
       "0                     2.0                  Yes            80   \n",
       "1                     2.0                   No           300   \n",
       "2                     2.0                  Yes           300   \n",
       "3                     2.0                   No            40   \n",
       "4                     2.0                   No           120   \n",
       "\n",
       "  Bundled Applications?  OS X Customer  OS Y Customer  OS X Store  OS Y Store  \\\n",
       "0                   Yes         532041         180995    534057.0    179682.0   \n",
       "1                    No         529240         175537    528739.0    173080.0   \n",
       "2                   Yes         533095         181047    535652.0    182961.0   \n",
       "3                   Yes         529902         179641    534057.0    179682.0   \n",
       "4                   Yes         531684         180948    528924.0    178440.0   \n",
       "\n",
       "   CustomerStoreDistance  \n",
       "0            2405.873022  \n",
       "1            2507.558574  \n",
       "2            3194.001409  \n",
       "3            4155.202281  \n",
       "4            3729.298057  "
      ]
     },
     "execution_count": 2,
     "metadata": {},
     "output_type": "execute_result"
    }
   ],
   "source": [
    "#check data imported correctly\n",
    "laptop_df.head()"
   ]
  },
  {
   "cell_type": "code",
   "execution_count": 3,
   "id": "52f2a069-37eb-4336-89e0-34d429af666b",
   "metadata": {},
   "outputs": [],
   "source": [
    "average_price_by_store = laptop_df.groupby('Store Postcode')['Retail Price'].mean()"
   ]
  },
  {
   "cell_type": "code",
   "execution_count": 4,
   "id": "4a4c6de4-3574-41cd-8d22-ae11f4fdd5b9",
   "metadata": {},
   "outputs": [
    {
     "data": {
      "text/plain": [
       "Store Postcode\n",
       "CR7 8LE     488.619048\n",
       "E2 0RY      483.171729\n",
       "E7 8NW      494.381443\n",
       "KT2 5AU     493.904762\n",
       "N17 6QA     494.634146\n",
       "N3 1DH      487.368421\n",
       "NW5 2QH     486.580460\n",
       "S1P 3AU     486.250000\n",
       "SE1 2BN     486.680195\n",
       "SE8 3JD     492.177778\n",
       "SW12 9HD    485.295699\n",
       "SW18 1NN    493.038922\n",
       "SW1P 3AU    488.506858\n",
       "SW1V 4QQ    489.344978\n",
       "W10 6HQ     489.866667\n",
       "W4 3PH      481.006289\n",
       "Name: Retail Price, dtype: float64"
      ]
     },
     "execution_count": 4,
     "metadata": {},
     "output_type": "execute_result"
    }
   ],
   "source": [
    "average_price_by_store"
   ]
  },
  {
   "cell_type": "code",
   "execution_count": 17,
   "id": "cb6d3e0b-784d-4d5b-aed7-c344b4c753ea",
   "metadata": {},
   "outputs": [
    {
     "data": {
      "image/png": "[encoded data removed]",
      "text/plain": [
       "<Figure size 640x480 with 1 Axes>"
      ]
     },
     "metadata": {},
     "output_type": "display_data"
    },
    {
     "data": {
      "text/plain": [
       "(475.0, 500.0)"
      ]
     },
     "execution_count": 17,
     "metadata": {},
     "output_type": "execute_result"
    }
   ],
   "source": [
    "average_price_by_store.plot(kind = 'bar', color = 'Black')\n",
    "plt.xlabel('Store Postcode')\n",
    "plt.ylabel('Average Retail Price')\n",
    "plt.tight_layout()\n",
    "plt.show()\n",
    "plt.ylim(475,500) "
   ]
  },
  {
   "cell_type": "code",
   "execution_count": 7,
   "id": "87d9285c-597c-41e3-ac38-5ef3e896a5ab",
   "metadata": {},
   "outputs": [
    {
     "name": "stdout",
     "output_type": "stream",
     "text": [
      "The Store with the highest average retail price is N17 6QA, with an average price of  494.63. \n",
      "The Store with the lowest average retail price is W4 3PH, with an average price of  481.01. \n"
     ]
    }
   ],
   "source": [
    "highest_average_store = average_price_by_store.idxmax()\n",
    "lowest_average_store = average_price_by_store.idxmin()\n",
    "highest_average_store_price = average_price_by_store.max()\n",
    "lowest_average_store_price = average_price_by_store.min()\n",
    "\n",
    "print(f\"The Store with the highest average retail price is {highest_average_store}, with an average price of {highest_average_store_price: .2f}. \")\n",
    "print(f\"The Store with the lowest average retail price is {lowest_average_store}, with an average price of {lowest_average_store_price: .2f}. \")"
   ]
  },
  {
   "cell_type": "code",
   "execution_count": 30,
   "id": "c24a1d24-1cd7-4bff-bd76-2ab10eca801f",
   "metadata": {},
   "outputs": [
    {
     "data": {
      "image/png": "[encoded data removed]",
      "text/plain": [
       "<Figure size 700x500 with 1 Axes>"
      ]
     },
     "metadata": {},
     "output_type": "display_data"
    }
   ],
   "source": [
    "#create side-by-side boxplots\n",
    "filtered_postcodes = ['N17 6QA', 'W4 3PH']\n",
    "filtered_data = laptop_df[laptop_df['Store Postcode'].isin (filtered_postcodes)]\n",
    "\n",
    "filtered_data.boxplot(column = 'Retail Price', by = 'Store Postcode', figsize = (7,5), grid = False)\n",
    "\n",
    "plt.xlabel('Store Postcode')\n",
    "plt.ylabel('Retail Price')\n",
    "plt.suptitle('')\n",
    "plt.title('')\n",
    "plt.show()"
   ]
  },
  {
   "cell_type": "code",
   "execution_count": null,
   "id": "2c8c2272-1367-4cf2-bcd1-386e8c321ad5",
   "metadata": {},
   "outputs": [],
   "source": [
    "#compare medians, ranges, and detect any outliers that may explain differences.\n",
    "#The ranges min and max are pretty similar, W4 3PH has a lower median but still pretty comparable to N17 6QA, W4 3PH also has more outliers than N17 6QA on both ends of the retail price which may explain the lower average price in comparison. The median price for N17 6QA is higher than W4 3PH but still pretty comparable. "
   ]
  }
 ],
 "metadata": {
  "kernelspec": {
   "display_name": "Python 3 (ipykernel)",
   "language": "python",
   "name": "python3"
  },
  "language_info": {
   "codemirror_mode": {
    "name": "ipython",
    "version": 3
   },
   "file_extension": ".py",
   "mimetype": "text/x-python",
   "name": "python",
   "nbconvert_exporter": "python",
   "pygments_lexer": "ipython3",
   "version": "3.12.7"
  }
 },
 "nbformat": 4,
 "nbformat_minor": 5
}
